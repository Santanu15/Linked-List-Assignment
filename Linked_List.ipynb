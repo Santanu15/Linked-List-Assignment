{
 "cells": [
  {
   "cell_type": "code",
   "execution_count": 9,
   "id": "9373edec-82b2-4477-92c2-bffabe2c82b3",
   "metadata": {},
   "outputs": [],
   "source": [
    "#Write a function to reverse a linked list in-place"
   ]
  },
  {
   "cell_type": "code",
   "execution_count": 25,
   "id": "dcc09cb0-693c-4dc2-9a98-a44ab42cd4ae",
   "metadata": {},
   "outputs": [],
   "source": [
    "class Node:\n",
    "    def __init__(self,data):\n",
    "        self.data=data\n",
    "        self.next=None"
   ]
  },
  {
   "cell_type": "code",
   "execution_count": 30,
   "id": "6641fc39-ab3e-4c01-9953-ffc9517a0016",
   "metadata": {},
   "outputs": [],
   "source": [
    "class Linked_List:\n",
    "    def __init__(self):\n",
    "        self.head=None\n",
    "        \n",
    "    def append(self,data):\n",
    "        new_node=Node(data)\n",
    "        if not self.head:\n",
    "            self.head=new_node\n",
    "            return\n",
    "        last_node=self.head\n",
    "        while last_node.next:\n",
    "            last_node=last_node.next\n",
    "        last_node.next=new_node\n",
    "            \n",
    "    def print_list(self):\n",
    "        current=self.head\n",
    "        while current:\n",
    "            print(current.data,end=\" -> \")\n",
    "            current=current.next\n",
    "       \n",
    "            \n",
    "    def reverse(self):\n",
    "        prev=None\n",
    "        current=self.head\n",
    "        while current:\n",
    "            next_node=current.next\n",
    "            current.next=prev\n",
    "            prev=current\n",
    "            current=next_node\n",
    "        self.head=prev\n",
    "        \n"
   ]
  },
  {
   "cell_type": "code",
   "execution_count": 35,
   "id": "abb400e5-ee03-4b3a-9a19-c8c0fb782e99",
   "metadata": {},
   "outputs": [
    {
     "name": "stdout",
     "output_type": "stream",
     "text": [
      "Original Linked List: 1 -> 2 -> 3 -> 4 -> 5 -> Revesed Linked List: 5 -> 4 -> 3 -> 2 -> 1 -> "
     ]
    }
   ],
   "source": [
    "link=Linked_List()\n",
    "link.append(1)\n",
    "link.append(2)\n",
    "link.append(3)\n",
    "link.append(4)\n",
    "link.append(5)\n",
    "\n",
    "\n",
    "\n",
    "print(\"Original Linked List:\",end=\" \")\n",
    "link.print_list()\n",
    "\n",
    "link.reverse()\n",
    "\n",
    "\n",
    "print(\"Revesed Linked List:\",end=\" \")\n",
    "link.print_list()"
   ]
  },
  {
   "cell_type": "code",
   "execution_count": null,
   "id": "95e93062-589a-4b7e-9c6b-3b4e6127b8d3",
   "metadata": {},
   "outputs": [],
   "source": []
  },
  {
   "cell_type": "code",
   "execution_count": null,
   "id": "5bd8c7f9-dc6a-4efb-becf-c050003acef0",
   "metadata": {},
   "outputs": [],
   "source": []
  },
  {
   "cell_type": "code",
   "execution_count": 36,
   "id": "6a3faa5f-71a0-41f1-b61e-19cc7508cf3e",
   "metadata": {},
   "outputs": [],
   "source": [
    "# Detect cycle in a linked list"
   ]
  },
  {
   "cell_type": "code",
   "execution_count": 37,
   "id": "625a12f1-277b-4310-8cee-7cbf523bc0ab",
   "metadata": {},
   "outputs": [],
   "source": [
    "class Node:\n",
    "    def __init__(self,data):\n",
    "        self.data=data\n",
    "        self.next=None\n",
    "        "
   ]
  },
  {
   "cell_type": "code",
   "execution_count": 38,
   "id": "fca48890-dd84-47c8-b1ac-0522986d2fe0",
   "metadata": {},
   "outputs": [],
   "source": [
    "class Linked_List:\n",
    "    def __init__(self):\n",
    "        self.head=None\n",
    "        \n",
    "    def append(self,data):\n",
    "        new_node=Node(data)\n",
    "        if not self.head:\n",
    "            self.head=new_node\n",
    "            return\n",
    "        last_node=self.head\n",
    "        while last_node.next:\n",
    "            last_node=last_node.next\n",
    "        last_node.next=new_node\n",
    "        \n",
    "        \n",
    "    def detect_cycle(self):\n",
    "        prev=self.head\n",
    "        current=self.head\n",
    "        \n",
    "        while current and current.next:\n",
    "            prev=prev.next\n",
    "            current=current.next.next\n",
    "            \n",
    "            if prev==current:\n",
    "                return True\n",
    "        return False\n",
    "            \n",
    "            \n",
    "        "
   ]
  },
  {
   "cell_type": "code",
   "execution_count": 39,
   "id": "81d51965-28e2-48dc-b2d2-c81fc85126b6",
   "metadata": {},
   "outputs": [
    {
     "name": "stdout",
     "output_type": "stream",
     "text": [
      "cycle detected\n"
     ]
    }
   ],
   "source": [
    "link=Linked_List()\n",
    "link.append(1)\n",
    "link.append(2)\n",
    "link.append(3)\n",
    "link.append(4)\n",
    "link.append(5)\n",
    "\n",
    "\n",
    "\n",
    "link.head.next.next.next.next=link.head.next\n",
    "\n",
    "if link.detect_cycle():\n",
    "    print(\"cycle detected\")\n",
    "    \n",
    "else:\n",
    "    print(\"No cycle detected\")"
   ]
  },
  {
   "cell_type": "code",
   "execution_count": null,
   "id": "05ae0065-0e3e-423d-b883-779df78d8954",
   "metadata": {},
   "outputs": [],
   "source": []
  },
  {
   "cell_type": "code",
   "execution_count": null,
   "id": "86da7c8e-ce3f-4ac6-a009-668bfcbc3774",
   "metadata": {},
   "outputs": [],
   "source": []
  },
  {
   "cell_type": "code",
   "execution_count": 46,
   "id": "e3f524ea-e2e4-453e-bc5c-84eeadf13ac2",
   "metadata": {},
   "outputs": [],
   "source": [
    "# Merge two sorted linked list into one. 1->3->5->7->null and 2->4->6->8->null should be merged to make 1->2->3->4->5->6->7->8"
   ]
  },
  {
   "cell_type": "code",
   "execution_count": 60,
   "id": "a22ac3cb-b893-4818-9d01-c6433f044d7a",
   "metadata": {},
   "outputs": [],
   "source": [
    "class Node:\n",
    "    def __init__(self,data):\n",
    "        self.data=data\n",
    "        self.next=None"
   ]
  },
  {
   "cell_type": "code",
   "execution_count": 66,
   "id": "166a5865-5842-47ee-9d44-83adc5b5d0b1",
   "metadata": {},
   "outputs": [],
   "source": [
    "class Linked_List:\n",
    "    def __init__(self):\n",
    "        self.head=None\n",
    "        \n",
    "        \n",
    "        \n",
    "    def append(self,data):\n",
    "        new_node=Node(data)\n",
    "        if not self.head:\n",
    "            self.head=new_node\n",
    "            return\n",
    "        last_node=self.head\n",
    "        while last_node.next:\n",
    "            last_node=last_node.next\n",
    "        last_node.next=new_node\n",
    "            \n",
    "    def print_list(self):\n",
    "        current=self.head\n",
    "        while current:\n",
    "            print(current.data,end=\" -> \")\n",
    "            current=current.next\n",
    "            \n",
    "def merge_sort(link1,link2):\n",
    "    dummy=Node(0)\n",
    "    tail=dummy\n",
    "        \n",
    "    l1=link1.head\n",
    "    l2=link2.head\n",
    "        \n",
    "    while l1 and l2:\n",
    "        if l1.data<l2.data:\n",
    "            tail.next=l1\n",
    "            l1=l1.next\n",
    "                \n",
    "        else:\n",
    "            tail.next=l2\n",
    "            l2=l2.next\n",
    "        tail=tail.next\n",
    "        \n",
    "    if l1:\n",
    "        tail.next=l1\n",
    "            \n",
    "    if l2:\n",
    "        tail.next=l2\n",
    "        \n",
    "    merge_list=Linked_List()\n",
    "    merge_list.head=dummy.next\n",
    "    return merge_list\n",
    "        \n",
    "        \n",
    "\n",
    "        "
   ]
  },
  {
   "cell_type": "code",
   "execution_count": 67,
   "id": "1e02c041-5195-4c05-a5ed-8cae9c19d044",
   "metadata": {},
   "outputs": [
    {
     "name": "stdout",
     "output_type": "stream",
     "text": [
      "List_1: 1 -> 3 -> 5 -> 7 -> List_2: 2 -> 4 -> 6 -> 8 -> Merged List: 1 -> 2 -> 3 -> 4 -> 5 -> 6 -> 7 -> 8 -> "
     ]
    }
   ],
   "source": [
    "link1=Linked_List()\n",
    "link1.append(1)\n",
    "link1.append(3)\n",
    "link1.append(5)\n",
    "link1.append(7)\n",
    "\n",
    "\n",
    "link2=Linked_List()\n",
    "link2.append(2)\n",
    "link2.append(4)\n",
    "link2.append(6)\n",
    "link2.append(8)\n",
    "\n",
    "print(\"List_1:\",end=\" \")\n",
    "link1.print_list()\n",
    "\n",
    "print(\"List_2:\",end=\" \")\n",
    "link2.print_list()\n",
    "\n",
    "merged_list=merge_sort(link1,link2)\n",
    "\n",
    "print(\"Merged List:\",end=\" \")\n",
    "merged_list.print_list()"
   ]
  },
  {
   "cell_type": "code",
   "execution_count": null,
   "id": "853b208d-dac9-414a-8577-e5581d55da20",
   "metadata": {},
   "outputs": [],
   "source": []
  },
  {
   "cell_type": "code",
   "execution_count": null,
   "id": "7f55c7d9-3821-484c-a249-578a6ebfa9bf",
   "metadata": {},
   "outputs": [],
   "source": []
  },
  {
   "cell_type": "code",
   "execution_count": null,
   "id": "3e0b83f0-8bd1-4848-81a4-177d96620bda",
   "metadata": {},
   "outputs": [],
   "source": []
  },
  {
   "cell_type": "code",
   "execution_count": null,
   "id": "8c3096a2-e824-436c-b119-a0959d97f316",
   "metadata": {},
   "outputs": [],
   "source": []
  },
  {
   "cell_type": "code",
   "execution_count": null,
   "id": "5fe5c097-23fa-4fa3-88b0-6127c653626e",
   "metadata": {},
   "outputs": [],
   "source": []
  },
  {
   "cell_type": "code",
   "execution_count": null,
   "id": "d3c50f0a-924b-40bf-85c8-85201d936080",
   "metadata": {},
   "outputs": [],
   "source": []
  },
  {
   "cell_type": "code",
   "execution_count": null,
   "id": "cfc66b15-9d9d-46d6-966a-7ad37cbaee7d",
   "metadata": {},
   "outputs": [],
   "source": []
  },
  {
   "cell_type": "code",
   "execution_count": null,
   "id": "83e45ac9-0e32-46c8-9b15-a018ae7d962c",
   "metadata": {},
   "outputs": [],
   "source": []
  },
  {
   "cell_type": "code",
   "execution_count": null,
   "id": "fd81d86e-56ae-4d98-a2d6-2a3d93a61746",
   "metadata": {},
   "outputs": [],
   "source": []
  }
 ],
 "metadata": {
  "kernelspec": {
   "display_name": "Python 3 (ipykernel)",
   "language": "python",
   "name": "python3"
  },
  "language_info": {
   "codemirror_mode": {
    "name": "ipython",
    "version": 3
   },
   "file_extension": ".py",
   "mimetype": "text/x-python",
   "name": "python",
   "nbconvert_exporter": "python",
   "pygments_lexer": "ipython3",
   "version": "3.10.8"
  }
 },
 "nbformat": 4,
 "nbformat_minor": 5
}
